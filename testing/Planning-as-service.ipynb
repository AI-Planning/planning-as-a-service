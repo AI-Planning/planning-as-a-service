{
 "cells": [
  {
   "cell_type": "code",
   "execution_count": 7,
   "metadata": {
    "collapsed": true
   },
   "outputs": [],
   "source": [
    "import requests\n",
    "import time\n",
    "from pprint import pprint\n",
    "\n",
    "\n",
    "ip='45.113.232.43'\n",
    "# ip='localhost'\n",
    "req_body = {\n",
    "    \"domain\":\"(define (domain blocksworld) (:requirements :strips) (:predicates (on ?x ?y) (ontable ?x) (clear ?x) (arm-free) (holding ?x) ) (:action pick-up :parameters (?x) :precondition (and (clear ?x) (ontable ?x) (arm-free)) :effect (and (not (ontable ?x)) (not (clear ?x)) (not (arm-free)) (holding ?x))) (:action put-down :parameters (?x) :precondition (holding ?x) :effect (and (not (holding ?x)) (clear ?x) (arm-free) (ontable ?x))) (:action stack :parameters (?x ?y) :precondition (and (holding ?x) (clear ?y)) :effect (and (not (holding ?x)) (not (clear ?y)) (clear ?x) (arm-free) (on ?x ?y))) (:action unstack :parameters (?x ?y) :precondition (and (on ?x ?y) (clear ?x) (arm-free)) :effect (and (holding ?x) (clear ?y) (not (clear ?x)) (not (arm-free)) (not (on ?x ?y)))))\",\n",
    "    \"problem\":\"(define (problem blocksworld-4-2) (:domain blocksworld) (:objects b d c a ) (:init (clear a) (clear c) (clear d) (ontable a) (ontable b) (ontable d) (on c b) (arm-free)) (:goal (and (on a b) (on b c) (on c d))))\"\n",
    "}"
   ]
  },
  {
   "cell_type": "code",
   "execution_count": 23,
   "metadata": {
    "collapsed": true
   },
   "outputs": [],
   "source": [
    "def test_planner(package_name,req_body,service=\"solve\"):\n",
    "    service_url=\"http://\"+ip+\":5001/package/\"+package_name+\"/\"+service\n",
    "    solve_request = requests.post(service_url, json=req_body).json()\n",
    "    print(solve_request)\n",
    "    celery_result = requests.get(\"http://\"+ip+\":5001\" + solve_request['result'])\n",
    "    print('Computing...')\n",
    "    while celery_result.text == 'PENDING':\n",
    "        time.sleep(12)\n",
    "        celery_result = requests.get(\"http://\"+ip+\":5001\" + solve_request['result'])\n",
    "        \n",
    "    ttt=celery_result\n",
    "    pprint(celery_result.json())"
   ]
  },
  {
   "cell_type": "code",
   "execution_count": 24,
   "metadata": {},
   "outputs": [
    {
     "name": "stdout",
     "output_type": "stream",
     "text": [
      "{'result': '/check/d009e66a-ad23-423a-9c8b-9efd5355ce55?external=True'}\n",
      "Computing...\n",
      "{'result': {'call': 'dual-bfws-fdparser domain problem plan',\n",
      "            'output': {'plan': '(unstack c b)\\n'\n",
      "                               '(stack c d)\\n'\n",
      "                               '(pick-up b)\\n'\n",
      "                               '(stack b c)\\n'\n",
      "                               '(pick-up a)\\n'\n",
      "                               '(stack a b)\\n'},\n",
      "            'stderr': '',\n",
      "            'stdout': 'Domain: domain Problem: problem\\n'\n",
      "                      'Parsing...\\n'\n",
      "                      'Parsing: [0.010s CPU, 0.001s wall-clock]\\n'\n",
      "                      'Generating Datalog program... [0.000s CPU, 0.000s '\n",
      "                      'wall-clock]\\n'\n",
      "                      'Normalizing Datalog program...\\n'\n",
      "                      'Normalizing Datalog program: [0.000s CPU, 0.003s '\n",
      "                      'wall-clock]\\n'\n",
      "                      'Preparing model... [0.000s CPU, 0.000s wall-clock]\\n'\n",
      "                      'Generated 21 rules.\\n'\n",
      "                      'Computing model... [0.000s CPU, 0.001s wall-clock]\\n'\n",
      "                      '78 relevant atoms\\n'\n",
      "                      '52 auxiliary atoms\\n'\n",
      "                      '130 final queue length\\n'\n",
      "                      '205 total queue pushes\\n'\n",
      "                      'Completing instantiation... [0.000s CPU, 0.001s '\n",
      "                      'wall-clock]\\n'\n",
      "                      'goal relaxed reachable: True\\n'\n",
      "                      '29 atoms\\n'\n",
      "                      'Computing fact groups...\\n'\n",
      "                      'Finding invariants...\\n'\n",
      "                      '10 initial candidates\\n'\n",
      "                      'Time limit reached, aborting invariant generation\\n'\n",
      "                      'Finding invariants: [0.000s CPU, 0.000s wall-clock]\\n'\n",
      "                      'Checking invariant weight... [0.000s CPU, 0.000s '\n",
      "                      'wall-clock]\\n'\n",
      "                      'Instantiating groups... [0.000s CPU, 0.000s '\n",
      "                      'wall-clock]\\n'\n",
      "                      'Collecting mutex groups... [0.000s CPU, 0.000s '\n",
      "                      'wall-clock]\\n'\n",
      "                      'Choosing groups...\\n'\n",
      "                      '29 uncovered facts\\n'\n",
      "                      'Choosing groups: [0.000s CPU, 0.000s wall-clock]\\n'\n",
      "                      'Building translation key... [0.000s CPU, 0.000s '\n",
      "                      'wall-clock]\\n'\n",
      "                      'Computing fact groups: [0.000s CPU, 0.001s wall-clock]\\n'\n",
      "                      '0 negated fluents created\\n'\n",
      "                      '\\n'\n",
      "                      ' Match tree built with 40 nodes.\\n'\n",
      "                      '\\n'\n",
      "                      'PDDL problem description loaded: \\n'\n",
      "                      '\\tDomain: blocksworld\\n'\n",
      "                      '\\tProblem: blocksworld-4-2\\n'\n",
      "                      '\\t#Actions: 40\\n'\n",
      "                      '\\t#Fluents: 29\\n'\n",
      "                      'Goals found: 3\\n'\n",
      "                      'Goals_Edges found: 3\\n'\n",
      "                      'Starting search with 1-BFWS...\\n'\n",
      "                      '--[3 / 0]--\\n'\n",
      "                      '--[3 / 2]--\\n'\n",
      "                      '--[3 / 4]--\\n'\n",
      "                      '--[2 / 0]--\\n'\n",
      "                      '--[2 / 5]--\\n'\n",
      "                      '--[1 / 0]--\\n'\n",
      "                      '--[1 / 4]--\\n'\n",
      "                      '--[0 / 0]--\\n'\n",
      "                      '--[0 / 4]--\\n'\n",
      "                      'Total time: 0.000144003\\n'\n",
      "                      'Nodes generated during search: 22\\n'\n",
      "                      'Nodes expanded during search: 8\\n'\n",
      "                      'Plan found with cost: 6\\n'\n",
      "                      'Fast-BFS search completed in 0.000144003 secs\\n'\n",
      "                      'Axioms 0\\n'\n",
      "                      'Deterministic 40 actions\\n'\n",
      "                      'Invariants 29\\n'}}\n"
     ]
    }
   ],
   "source": [
    "test_planner(\"dual-bfws-fdparser\",req_body)"
   ]
  },
  {
   "cell_type": "code",
   "execution_count": 25,
   "metadata": {},
   "outputs": [
    {
     "name": "stdout",
     "output_type": "stream",
     "text": [
      "{'result': '/check/aec398a9-4aa4-4605-8736-1b0397e61720?external=True'}\n",
      "Computing...\n",
      "{'result': {'call': 'dual-bfws-ffparser domain problem plan',\n",
      "            'output': {'plan': '(UNSTACK C B)\\n'\n",
      "                               '(STACK C D)\\n'\n",
      "                               '(PICK-UP B)\\n'\n",
      "                               '(STACK B C)\\n'\n",
      "                               '(PICK-UP A)\\n'\n",
      "                               '(STACK A B)\\n'},\n",
      "            'stderr': '',\n",
      "            'stdout': ' --- OK.\\n'\n",
      "                      ' Match tree built with 40 nodes.\\n'\n",
      "                      '\\n'\n",
      "                      'PDDL problem description loaded: \\n'\n",
      "                      '\\tDomain: BLOCKSWORLD\\n'\n",
      "                      '\\tProblem: BLOCKSWORLD-4-2\\n'\n",
      "                      '\\t#Actions: 40\\n'\n",
      "                      '\\t#Fluents: 29\\n'\n",
      "                      'Goals found: 3\\n'\n",
      "                      'Goals_Edges found: 3\\n'\n",
      "                      'Starting search with 1-BFWS...\\n'\n",
      "                      '--[3 / 0]--\\n'\n",
      "                      '--[3 / 2]--\\n'\n",
      "                      '--[3 / 4]--\\n'\n",
      "                      '--[2 / 0]--\\n'\n",
      "                      '--[2 / 5]--\\n'\n",
      "                      '--[1 / 0]--\\n'\n",
      "                      '--[1 / 4]--\\n'\n",
      "                      '--[0 / 0]--\\n'\n",
      "                      '--[0 / 4]--\\n'\n",
      "                      'Total time: 0.000119\\n'\n",
      "                      'Nodes generated during search: 18\\n'\n",
      "                      'Nodes expanded during search: 6\\n'\n",
      "                      'Plan found with cost: 6\\n'\n",
      "                      'Fast-BFS search completed in 0.000119 secs\\n'}}\n"
     ]
    }
   ],
   "source": [
    "test_planner(\"dual-bfws-ffparser\",req_body)"
   ]
  },
  {
   "cell_type": "code",
   "execution_count": null,
   "metadata": {
    "collapsed": true
   },
   "outputs": [],
   "source": []
  },
  {
   "cell_type": "code",
   "execution_count": 32,
   "metadata": {
    "scrolled": false
   },
   "outputs": [],
   "source": [
    "# lama\n",
    "# test_planner(\"lama\",req_body)"
   ]
  },
  {
   "cell_type": "code",
   "execution_count": null,
   "metadata": {},
   "outputs": [],
   "source": []
  },
  {
   "cell_type": "code",
   "execution_count": 31,
   "metadata": {},
   "outputs": [],
   "source": [
    "# kstar\n",
    "# test_planner(\"kstar\",req_body)"
   ]
  },
  {
   "cell_type": "code",
   "execution_count": 26,
   "metadata": {
    "scrolled": false
   },
   "outputs": [],
   "source": [
    "# lama-first\n",
    "# test_planner(\"lama-first\",req_body)"
   ]
  },
  {
   "cell_type": "code",
   "execution_count": null,
   "metadata": {},
   "outputs": [],
   "source": []
  },
  {
   "cell_type": "code",
   "execution_count": null,
   "metadata": {
    "collapsed": true
   },
   "outputs": [],
   "source": []
  },
  {
   "cell_type": "code",
   "execution_count": 27,
   "metadata": {},
   "outputs": [],
   "source": [
    "# cerberus-sat\n",
    "# test_planner(\"cerberus-sat\",req_body)"
   ]
  },
  {
   "cell_type": "code",
   "execution_count": 28,
   "metadata": {
    "scrolled": true
   },
   "outputs": [],
   "source": [
    "# enhsp-2020\n",
    "# test_planner(\"enhsp-2020\",req_body)"
   ]
  },
  {
   "cell_type": "code",
   "execution_count": 29,
   "metadata": {
    "scrolled": true
   },
   "outputs": [],
   "source": [
    "# forbiditerative-topk 1 plan\n",
    "# topk_body=req_body.copy()\n",
    "# topk_body[\"number_of_plans\"]=1\n",
    "# test_planner(\"forbiditerative-topk\",topk_body)"
   ]
  },
  {
   "cell_type": "code",
   "execution_count": 30,
   "metadata": {
    "scrolled": true
   },
   "outputs": [],
   "source": [
    "# forbiditerative-topk 3 plan\n",
    "# topk_body=req_body.copy()\n",
    "# topk_body[\"number_of_plans\"]=3\n",
    "# test_planner(\"forbiditerative-topk\",topk_body)"
   ]
  },
  {
   "cell_type": "code",
   "execution_count": 15,
   "metadata": {
    "collapsed": true
   },
   "outputs": [],
   "source": []
  }
 ],
 "metadata": {
  "kernelspec": {
   "display_name": "Python 3",
   "language": "python",
   "name": "python3"
  },
  "language_info": {
   "codemirror_mode": {
    "name": "ipython",
    "version": 3
   },
   "file_extension": ".py",
   "mimetype": "text/x-python",
   "name": "python",
   "nbconvert_exporter": "python",
   "pygments_lexer": "ipython3",
   "version": "3.6.6"
  }
 },
 "nbformat": 4,
 "nbformat_minor": 2
}
