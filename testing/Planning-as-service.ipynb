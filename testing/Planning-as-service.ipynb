{
 "cells": [
  {
   "cell_type": "code",
   "execution_count": null,
   "metadata": {
    "collapsed": true
   },
   "outputs": [],
   "source": [
    "import requests\n",
    "import time\n",
    "from pprint import pprint\n",
    "\n",
    "\n",
    "# ip='45.113.232.43'\n",
    "ip='localhost'\n",
    "req_body = {\n",
    "    \"domain\":\"(define (domain blocksworld) (:requirements :strips) (:predicates (ON ?x ?y) (ontable ?x) (CLEAR ?x) (arm-free) (holding ?x) ) (:action pick-up :parameters (?x) :precondition (and (clear ?x) (ontable ?x) (arm-free)) :effect (and (not (ontable ?x)) (not (clear ?x)) (not (arm-free)) (holding ?x))) (:action put-down :parameters (?x) :precondition (holding ?x) :effect (and (not (holding ?x)) (clear ?x) (arm-free) (ontable ?x))) (:action stack :parameters (?x ?y) :precondition (and (holding ?x) (clear ?y)) :effect (and (not (holding ?x)) (not (clear ?y)) (clear ?x) (arm-free) (on ?x ?y))) (:action unstack :parameters (?x ?y) :precondition (and (on ?x ?y) (clear ?x) (arm-free)) :effect (and (holding ?x) (clear ?y) (not (clear ?x)) (not (arm-free)) (not (on ?x ?y)))))\",\n",
    "    \"problem\":\"(define (problem blocksworld-4-2) (:domain blocksworld) (:objects b d c a ) (:init (clear a) (clear c) (clear d) (ontable a) (ontable b) (ontable d) (on c b) (arm-free)) (:goal (and (on a b) (on b c) (on c d))))\"\n",
    "}"
   ]
  },
  {
   "cell_type": "code",
   "execution_count": null,
   "metadata": {},
   "outputs": [],
   "source": [
    "# An example of Package API to send task and retrive plans.\n",
    "\n",
    "def test_planner(package_name,req_body,service=\"solve\"):\n",
    "    service_url=\"http://\"+ip+\":5001/package/\"+package_name+\"/\"+service\n",
    "    solve_request = requests.post(service_url, json=req_body).json()\n",
    "    celery_result = requests.get(\"http://\"+ip+\":5001\" + solve_request['result'])\n",
    "    print('Computing...')\n",
    "    while celery_result.json().get(\"status\",\"\") == 'PENDING':\n",
    "        time.sleep(2)\n",
    "        celery_result = requests.get(\"http://\"+ip+\":5001\" + solve_request['result'])\n",
    "\n",
    "    pprint(celery_result.json())\n",
    "    \n",
    "test_planner(\"lama\",req_body)"
   ]
  },
  {
   "cell_type": "code",
   "execution_count": null,
   "metadata": {
    "collapsed": true
   },
   "outputs": [],
   "source": [
    "\n"
   ]
  },
  {
   "cell_type": "code",
   "execution_count": null,
   "metadata": {},
   "outputs": [],
   "source": [
    "# Function to test the limiter functionality\n",
    "\n",
    "def test_limiter(package_name,req_body,service=\"solve\"):\n",
    "    service_url=\"http://\"+ip+\":5001/package/\"+package_name+\"/\"+service\n",
    "    solve_request = requests.post(service_url, json=req_body)\n",
    "    return solve_request\n",
    "    \n",
    "\n",
    "import concurrent.futures\n",
    "with concurrent.futures.ThreadPoolExecutor() as executor:\n",
    "    futures = []\n",
    "    for i in range(30):\n",
    "        futures.append(executor.submit(test_limiter, \"lama\",req_body))\n",
    "    for future in concurrent.futures.as_completed(futures):\n",
    "        print(future.result())"
   ]
  },
  {
   "cell_type": "code",
   "execution_count": null,
   "metadata": {
    "collapsed": true
   },
   "outputs": [],
   "source": []
  }
 ],
 "metadata": {
  "kernelspec": {
   "display_name": "Python 3",
   "language": "python",
   "name": "python3"
  },
  "language_info": {
   "codemirror_mode": {
    "name": "ipython",
    "version": 3
   },
   "file_extension": ".py",
   "mimetype": "text/x-python",
   "name": "python",
   "nbconvert_exporter": "python",
   "pygments_lexer": "ipython3",
   "version": "3.6.6"
  }
 },
 "nbformat": 4,
 "nbformat_minor": 2
}
